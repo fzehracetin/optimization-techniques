{
 "cells": [
  {
   "cell_type": "code",
   "execution_count": 1,
   "metadata": {},
   "outputs": [],
   "source": [
    "import matplotlib.pyplot as plt\n",
    "import numpy as np\n",
    "import sympy as sym"
   ]
  },
  {
   "cell_type": "code",
   "execution_count": 2,
   "metadata": {},
   "outputs": [],
   "source": [
    "def f(x, power, coeff):\n",
    "    summ = 0\n",
    "    xk = 1\n",
    "    coeff = list(map(float, coeff))\n",
    "    for i in range(int(power), -1, -1):\n",
    "        summ += float(xk) * coeff[i]\n",
    "        xk *= x\n",
    "    return summ"
   ]
  },
  {
   "cell_type": "code",
   "execution_count": 3,
   "metadata": {},
   "outputs": [],
   "source": [
    "def f2(x, power, coeff):\n",
    "    summ = 0\n",
    "    xk = 1\n",
    "    coeff = list(map(float, coeff))\n",
    "    for i in range(int(power), -1, -1):\n",
    "        summ += xk * coeff[i]\n",
    "        xk *= x\n",
    "    return summ"
   ]
  },
  {
   "cell_type": "code",
   "execution_count": 4,
   "metadata": {},
   "outputs": [],
   "source": [
    "def fprime(x, power, coff):\n",
    "    return sym.diff(f2(x, power, coff), x)"
   ]
  },
  {
   "cell_type": "code",
   "execution_count": 16,
   "metadata": {},
   "outputs": [],
   "source": [
    "def grad_descent(X, Y, power, coff, eps=0.05, max_iter=200, precision=0.00001):\n",
    "    X_old = 0\n",
    "    X_new = 4.9\n",
    "    Xs = np.zeros(max_iter)\n",
    "    Ys = np.zeros(max_iter)\n",
    "    i = 0\n",
    "    x = sym.symbols('x')\n",
    "    dfr = fprime(x, power, coff) #diferansiyel\n",
    "    \n",
    "    while abs(X_new - X_old) > precision and max_iter > i:\n",
    "        Xs[i] = X_new\n",
    "        Ys[i] = f(X_new, power, coff)\n",
    "\n",
    "        X_old = X_new\n",
    "        \n",
    "        df = dfr.evalf(subs={x: X_old})\n",
    "        X_new = X_old - eps * df\n",
    "        eps *= 0.99\n",
    "        i += 1\n",
    "    return Xs, Ys"
   ]
  },
  {
   "cell_type": "code",
   "execution_count": 6,
   "metadata": {},
   "outputs": [
    {
     "name": "stdout",
     "output_type": "stream",
     "text": [
      "Enter power of the function: 2\n",
      "Enter the function's coefficients: 1 0 0\n"
     ]
    }
   ],
   "source": [
    "X = np.arange(-5, 5, 0.1)\n",
    "Y = np.zeros(len(X))\n",
    "power = input(\"Enter power of the function: \")\n",
    "coeff = input(\"Enter the function's coefficients: \")\n",
    "coeff = coeff.split()\n",
    "for i in range(len(X)):\n",
    "    Y[i] = f(X[i], power,  coeff)"
   ]
  },
  {
   "cell_type": "code",
   "execution_count": 17,
   "metadata": {},
   "outputs": [],
   "source": [
    "x_list, y_list = grad_descent(X, Y, power, coeff)"
   ]
  },
  {
   "cell_type": "code",
   "execution_count": 18,
   "metadata": {},
   "outputs": [
    {
     "data": {
      "image/png": "[encoded data removed]",
      "text/plain": [
       "<Figure size 432x288 with 1 Axes>"
      ]
     },
     "metadata": {
      "needs_background": "light"
     },
     "output_type": "display_data"
    }
   ],
   "source": [
    "plt.subplot(1,2,2)\n",
    "plt.scatter(x_list,y_list,c=\"g\")\n",
    "plt.plot(X, Y, c=\"r\")\n",
    "plt.title(\"Gradient descent\")\n",
    "plt.show()"
   ]
  },
  {
   "cell_type": "code",
   "execution_count": 15,
   "metadata": {},
   "outputs": [
    {
     "data": {
      "image/png": "[encoded data removed]",
      "text/plain": [
       "<Figure size 432x288 with 1 Axes>"
      ]
     },
     "metadata": {
      "needs_background": "light"
     },
     "output_type": "display_data"
    }
   ],
   "source": [
    "plt.subplot(1,2,1)\n",
    "plt.scatter(x_list,y_list,c=\"g\")\n",
    "plt.plot(X, Y, c=\"r\")\n",
    "plt.xlim([-3.0,0.3])\n",
    "plt.title(\"Zoomed in Gradient descent to Key Area\")\n",
    "plt.show()"
   ]
  },
  {
   "cell_type": "code",
   "execution_count": null,
   "metadata": {},
   "outputs": [],
   "source": []
  }
 ],
 "metadata": {
  "kernelspec": {
   "display_name": "Python 3",
   "language": "python",
   "name": "python3"
  },
  "language_info": {
   "codemirror_mode": {
    "name": "ipython",
    "version": 3
   },
   "file_extension": ".py",
   "mimetype": "text/x-python",
   "name": "python",
   "nbconvert_exporter": "python",
   "pygments_lexer": "ipython3",
   "version": "3.7.3"
  }
 },
 "nbformat": 4,
 "nbformat_minor": 2
}

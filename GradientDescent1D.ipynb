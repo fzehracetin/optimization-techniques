{
 "cells": [
  {
   "cell_type": "code",
   "execution_count": 60,
   "metadata": {},
   "outputs": [],
   "source": [
    "import matplotlib.pyplot as plt\n",
    "import numpy as np\n",
    "import sympy as sym"
   ]
  },
  {
   "cell_type": "code",
   "execution_count": 135,
   "metadata": {},
   "outputs": [],
   "source": [
    "def f(x, power, coeff):\n",
    "    summ = 0\n",
    "    xk = 1\n",
    "    coeff = list(map(float, coeff))\n",
    "    for i in range(int(power), -1, -1):\n",
    "        summ += float(xk) * coeff[i]\n",
    "        xk *= x\n",
    "    return summ"
   ]
  },
  {
   "cell_type": "code",
   "execution_count": 122,
   "metadata": {},
   "outputs": [],
   "source": [
    "def f2(x, power, coeff):\n",
    "    summ = 0\n",
    "    xk = 1\n",
    "    coeff = list(map(float, coeff))\n",
    "    for i in range(int(power), -1, -1):\n",
    "        summ += xk * coeff[i]\n",
    "        xk *= x\n",
    "    return summ"
   ]
  },
  {
   "cell_type": "code",
   "execution_count": 124,
   "metadata": {},
   "outputs": [],
   "source": [
    "def fprime(x, power, coff):\n",
    "    return sym.diff(f2(x, power, coff), x)"
   ]
  },
  {
   "cell_type": "code",
   "execution_count": 141,
   "metadata": {},
   "outputs": [],
   "source": [
    "def grad_descent(X, Y, power, coff):\n",
    "    X_old = 0\n",
    "    X_new = 4.9\n",
    "    eps = 0.05\n",
    "    precision = 0.00001\n",
    "    max_iter = 1000\n",
    "    Xs = np.zeros(max_iter)\n",
    "    Ys = np.zeros(max_iter)\n",
    "    i = 1\n",
    "    x = sym.symbols('x')\n",
    "    dfr = fprime(x, power, coff) #diferansiyel\n",
    "    \n",
    "    while abs(X_new - X_old) > precision and max_iter > i:\n",
    "        Xs[i] = X_new\n",
    "        Ys[i] = X_new**2\n",
    "\n",
    "        X_old = X_new\n",
    "        print(\"X_old i: % d->% f\" % (i, X_old))\n",
    "        \n",
    "        df = dfr.evalf(subs={x: X_old})\n",
    "        print(\"dif i: % d->% f\" % (i,df))\n",
    "        X_new = X_old - eps * np.sign(df)\n",
    "        i += 1\n",
    "        #print(i)\n",
    "    return Xs, Ys"
   ]
  },
    }
   ],
   "source": [
    "X = np.arange(-5, 5, 0.1)\n",
    "print(len(X))\n",
    "Y = np.zeros(len(X))\n",
    "power = input(\"Enter power of the function: \")\n",
    "coeff = input(\"Enter the function's coefficients: \")\n",
    "coeff = coeff.split()\n",
    "for i in range(len(X)):\n",
    "    Y[i] = f(X[i], power,  coeff)\n",
    "    print(X[i], Y[i])"
   ]
  },
  
   ],
   "source": [
    "x_list, y_list = grad_descent(X, Y, power, coeff)\n",
    "#print((x_list))\n"
   ]
  },
  {
   "cell_type": "code",
   "execution_count": 145,
   "metadata": {},
   "outputs": [
    {
     "data": {
      "image/png": "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\n",
      "text/plain": [
       "<Figure size 432x288 with 1 Axes>"
      ]
     },
     "metadata": {
      "needs_background": "light"
     },
     "output_type": "display_data"
    }
   ],
   "source": [
    "plt.subplot(1,2,2)\n",
    "plt.scatter(x_list,y_list,c=\"g\")\n",
    "plt.plot(X, Y, c=\"r\")\n",
    "plt.title(\"Gradient descent\")\n",
    "plt.show()"
   ]
  },
  {
   "cell_type": "code",
   "execution_count": 7,
   "metadata": {},
   "outputs": [
    {
     "data": {
      "image/png": "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\n",
      "text/plain": [
       "<Figure size 432x288 with 1 Axes>"
      ]
     },
     "metadata": {
      "needs_background": "light"
     },
     "output_type": "display_data"
    }
   ],
   "source": [
    "plt.subplot(1,2,1)\n",
    "plt.scatter(x_list,y_list,c=\"g\")\n",
    "#plt.plot(x_list,y_list,c=\"g\")\n",
    "plt.plot(X, Y, c=\"r\")\n",
    "plt.xlim([-3.0,0.3])\n",
    "plt.title(\"Zoomed in Gradient descent to Key Area\")\n",
    "plt.show()"
   ]
  },
  {
   "cell_type": "code",
   "execution_count": null,
   "metadata": {},
   "outputs": [],
   "source": []
  }
 ],
 "metadata": {
  "kernelspec": {
   "display_name": "Python 3",
   "language": "python",
   "name": "python3"
  },
  "language_info": {
   "codemirror_mode": {
    "name": "ipython",
    "version": 3
   },
   "file_extension": ".py",
   "mimetype": "text/x-python",
   "name": "python",
   "nbconvert_exporter": "python",
   "pygments_lexer": "ipython3",
   "version": "3.7.3"
  }
 },
 "nbformat": 4,
 "nbformat_minor": 2
}
